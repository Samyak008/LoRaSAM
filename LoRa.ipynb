{
  "nbformat": 4,
  "nbformat_minor": 0,
  "metadata": {
    "colab": {
      "provenance": [],
      "gpuType": "V28",
      "authorship_tag": "ABX9TyORFNM6odNczG6hJj4xHu0k",
      "include_colab_link": true
    },
    "kernelspec": {
      "name": "python3",
      "display_name": "Python 3"
    },
    "language_info": {
      "name": "python"
    },
    "accelerator": "TPU"
  },
  "cells": [
    {
      "cell_type": "markdown",
      "metadata": {
        "id": "view-in-github",
        "colab_type": "text"
      },
      "source": [
        "<a href=\"https://colab.research.google.com/github/Samyak008/LoRaSAM/blob/main/LoRa.ipynb\" target=\"_parent\"><img src=\"https://colab.research.google.com/assets/colab-badge.svg\" alt=\"Open In Colab\"/></a>"
      ]
    },
    {
      "cell_type": "code",
      "execution_count": 2,
      "metadata": {
        "colab": {
          "base_uri": "https://localhost:8080/"
        },
        "id": "xPxmzHWWHOc_",
        "outputId": "d1d63f3c-503b-4445-d1db-7243262afcce"
      },
      "outputs": [
        {
          "output_type": "stream",
          "name": "stdout",
          "text": [
            "Hello Teeny tiny Hooman\n"
          ]
        }
      ],
      "source": [
        "print(\"Hello Teeny tiny Hooman\")"
      ]
    },
    {
      "cell_type": "code",
      "source": [
        "print(\"Namaste\")"
      ],
      "metadata": {
        "id": "mEGPbysqLqvm",
        "colab": {
          "base_uri": "https://localhost:8080/"
        },
        "outputId": "2a0170c9-62e0-433a-d8b6-652e8691c622"
      },
      "execution_count": 3,
      "outputs": [
        {
          "output_type": "stream",
          "name": "stdout",
          "text": [
            "Namaste\n"
          ]
        }
      ]
    },
    {
      "cell_type": "code",
      "source": [
        "print(\"phewww!!! Dataset collection is complete\")"
      ],
      "metadata": {
        "colab": {
          "base_uri": "https://localhost:8080/"
        },
        "id": "-8m6IoYXONW5",
        "outputId": "6f2fafd8-eb8b-4b85-8256-76d7ed9fd345"
      },
      "execution_count": 4,
      "outputs": [
        {
          "output_type": "stream",
          "name": "stdout",
          "text": [
            "phewww!!! Dataset collection is complete\n"
          ]
        }
      ]
    },
    {
      "cell_type": "code",
      "source": [
        "# Accessing the Dataset\n",
        "from google.colab import drive\n",
        "drive.mount('/content/drive')\n",
        "data_path = '/content/drive/MyDrive/twin_me'"
      ],
      "metadata": {
        "id": "ePgx2-X1RLoV",
        "colab": {
          "base_uri": "https://localhost:8080/"
        },
        "outputId": "006bb04a-ab2a-4f94-8591-6e4339db8732"
      },
      "execution_count": 5,
      "outputs": [
        {
          "output_type": "stream",
          "name": "stdout",
          "text": [
            "Mounted at /content/drive\n"
          ]
        }
      ]
    },
    {
      "cell_type": "code",
      "source": [
        "#All libs and Dependensies will be stored in this cell, run once no hassle of downloading them again\n",
        "!pip install Pillow #for resizing puproses\n",
        "!pip install transformers #image description (basically getting image metadata)\n",
        "!pip install torch torchvision #image detailing"
      ],
      "metadata": {
        "colab": {
          "base_uri": "https://localhost:8080/"
        },
        "id": "oTLwm7dYx6C2",
        "outputId": "20ac31a8-df66-416a-c873-153b61fa9501"
      },
      "execution_count": 6,
      "outputs": [
        {
          "output_type": "stream",
          "name": "stdout",
          "text": [
            "Requirement already satisfied: Pillow in /usr/local/lib/python3.11/dist-packages (11.1.0)\n"
          ]
        }
      ]
    },
    {
      "cell_type": "code",
      "source": [
        "#resizing the images\n",
        "from PIL import Image\n",
        "import os\n",
        "\n",
        "# Paths\n",
        "input_folder = data_path\n",
        "output_folder = os.path.join(data_path, \"resized_images\")\n",
        "os.makedirs(output_folder, exist_ok=True)\n",
        "\n",
        "# Resize dimensions\n",
        "target_size = (512, 512)\n",
        "\n",
        "def resize_images(input_folder, output_folder, target_size):\n",
        "    for filename in os.listdir(input_folder):\n",
        "        if filename.lower().endswith(('.png', '.jpg', '.jpeg')):\n",
        "            input_path = os.path.join(input_folder, filename)\n",
        "            output_path = os.path.join(output_folder, filename)\n",
        "\n",
        "            try:\n",
        "                # Open the image\n",
        "                with Image.open(input_path) as img:\n",
        "                    # Resize with high-quality resampling\n",
        "                    img_resized = img.resize(target_size, Image.LANCZOS)\n",
        "                    img_resized.save(output_path, quality=95)\n",
        "            except Exception as e:\n",
        "                print(f\"Error processing {filename}: {e}\")\n",
        "\n",
        "    print(f\"Resized images saved to: {output_folder}\")\n",
        "\n",
        "resize_images(input_folder, output_folder, target_size)"
      ],
      "metadata": {
        "colab": {
          "base_uri": "https://localhost:8080/"
        },
        "id": "tLugdslL1aH3",
        "outputId": "056f7bcc-a83a-4e49-b73c-ab66d09efbeb"
      },
      "execution_count": 8,
      "outputs": [
        {
          "output_type": "stream",
          "name": "stdout",
          "text": [
            "Resized images saved to: /content/drive/MyDrive/twin_me/resized_images\n"
          ]
        }
      ]
    },
    {
      "cell_type": "code",
      "source": [],
      "metadata": {
        "id": "tQ6ETmSN1mwQ"
      },
      "execution_count": null,
      "outputs": []
    }
  ]
}
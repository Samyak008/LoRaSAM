{
  "nbformat": 4,
  "nbformat_minor": 0,
  "metadata": {
    "colab": {
      "provenance": [],
      "gpuType": "V28",
      "authorship_tag": "ABX9TyPWwzfCLwqKEx8Fe3mOYJfu",
      "include_colab_link": true
    },
    "kernelspec": {
      "name": "python3",
      "display_name": "Python 3"
    },
    "language_info": {
      "name": "python"
    },
    "accelerator": "TPU"
  },
  "cells": [
    {
      "cell_type": "markdown",
      "metadata": {
        "id": "view-in-github",
        "colab_type": "text"
      },
      "source": [
        "<a href=\"https://colab.research.google.com/github/Samyak008/LoRaSAM/blob/main/LoRa.ipynb\" target=\"_parent\"><img src=\"https://colab.research.google.com/assets/colab-badge.svg\" alt=\"Open In Colab\"/></a>"
      ]
    },
    {
      "cell_type": "code",
      "execution_count": 2,
      "metadata": {
        "colab": {
          "base_uri": "https://localhost:8080/"
        },
        "id": "xPxmzHWWHOc_",
        "outputId": "042da51d-1b1d-406d-dbd4-1b3aa46abf4d"
      },
      "outputs": [
        {
          "output_type": "stream",
          "name": "stdout",
          "text": [
            "Hello Teeny tiny Hooman\n"
          ]
        }
      ],
      "source": [
        "print(\"Hello Teeny tiny Hooman\")"
      ]
    },
    {
      "cell_type": "code",
      "source": [
        "print(\"Namaste\")"
      ],
      "metadata": {
        "id": "mEGPbysqLqvm",
        "colab": {
          "base_uri": "https://localhost:8080/"
        },
        "outputId": "4da65172-b783-4561-8e36-2fc16b22852d"
      },
      "execution_count": 3,
      "outputs": [
        {
          "output_type": "stream",
          "name": "stdout",
          "text": [
            "Namaste\n"
          ]
        }
      ]
    },
    {
      "cell_type": "code",
      "source": [
        "print(\"phewww!!! Dataset collection is complete\")"
      ],
      "metadata": {
        "colab": {
          "base_uri": "https://localhost:8080/"
        },
        "id": "-8m6IoYXONW5",
        "outputId": "6fbc5e7e-86b8-4dc6-ac40-5d8b3db25dae"
      },
      "execution_count": 4,
      "outputs": [
        {
          "output_type": "stream",
          "name": "stdout",
          "text": [
            "phewww!!! Dataset collection is complete\n"
          ]
        }
      ]
    },
    {
      "cell_type": "code",
      "source": [
        "# Accessing the Dataset\n",
        "from google.colab import drive\n",
        "drive.mount('/content/drive')\n",
        "data_path = '/content/drive/MyDrive/twin_me'"
      ],
      "metadata": {
        "id": "ePgx2-X1RLoV",
        "colab": {
          "base_uri": "https://localhost:8080/"
        },
        "outputId": "fdccd717-ea9e-4af2-daa1-aaa7f899e45a"
      },
      "execution_count": 6,
      "outputs": [
        {
          "output_type": "stream",
          "name": "stdout",
          "text": [
            "Drive already mounted at /content/drive; to attempt to forcibly remount, call drive.mount(\"/content/drive\", force_remount=True).\n"
          ]
        }
      ]
    },
    {
      "cell_type": "code",
      "source": [
        "#All libs and Dependensies will be stored in this cell, run once no hassle of downloading them again\n",
        "!pip install Pillow #for resizing puproses\n",
        "!pip install transformers #image description (basically getting image metadata)\n",
        "!pip install torch torchvision #image detailing"
      ],
      "metadata": {
        "colab": {
          "base_uri": "https://localhost:8080/"
        },
        "id": "oTLwm7dYx6C2",
        "outputId": "2473b46e-9ec7-4761-ffa5-8e6014a4e8eb"
      },
      "execution_count": 7,
      "outputs": [
        {
          "output_type": "stream",
          "name": "stdout",
          "text": [
            "Requirement already satisfied: Pillow in /usr/local/lib/python3.11/dist-packages (11.1.0)\n",
            "Requirement already satisfied: transformers in /usr/local/lib/python3.11/dist-packages (4.47.1)\n",
            "Requirement already satisfied: filelock in /usr/local/lib/python3.11/dist-packages (from transformers) (3.16.1)\n",
            "Requirement already satisfied: huggingface-hub<1.0,>=0.24.0 in /usr/local/lib/python3.11/dist-packages (from transformers) (0.27.1)\n",
            "Requirement already satisfied: numpy>=1.17 in /usr/local/lib/python3.11/dist-packages (from transformers) (1.26.4)\n",
            "Requirement already satisfied: packaging>=20.0 in /usr/local/lib/python3.11/dist-packages (from transformers) (24.2)\n",
            "Requirement already satisfied: pyyaml>=5.1 in /usr/local/lib/python3.11/dist-packages (from transformers) (6.0.2)\n",
            "Requirement already satisfied: regex!=2019.12.17 in /usr/local/lib/python3.11/dist-packages (from transformers) (2024.11.6)\n",
            "Requirement already satisfied: requests in /usr/local/lib/python3.11/dist-packages (from transformers) (2.32.3)\n",
            "Requirement already satisfied: tokenizers<0.22,>=0.21 in /usr/local/lib/python3.11/dist-packages (from transformers) (0.21.0)\n",
            "Requirement already satisfied: safetensors>=0.4.1 in /usr/local/lib/python3.11/dist-packages (from transformers) (0.5.2)\n",
            "Requirement already satisfied: tqdm>=4.27 in /usr/local/lib/python3.11/dist-packages (from transformers) (4.67.1)\n",
            "Requirement already satisfied: fsspec>=2023.5.0 in /usr/local/lib/python3.11/dist-packages (from huggingface-hub<1.0,>=0.24.0->transformers) (2024.12.0)\n",
            "Requirement already satisfied: typing-extensions>=3.7.4.3 in /usr/local/lib/python3.11/dist-packages (from huggingface-hub<1.0,>=0.24.0->transformers) (4.12.2)\n",
            "Requirement already satisfied: charset-normalizer<4,>=2 in /usr/local/lib/python3.11/dist-packages (from requests->transformers) (3.4.1)\n",
            "Requirement already satisfied: idna<4,>=2.5 in /usr/local/lib/python3.11/dist-packages (from requests->transformers) (3.10)\n",
            "Requirement already satisfied: urllib3<3,>=1.21.1 in /usr/local/lib/python3.11/dist-packages (from requests->transformers) (2.3.0)\n",
            "Requirement already satisfied: certifi>=2017.4.17 in /usr/local/lib/python3.11/dist-packages (from requests->transformers) (2024.12.14)\n",
            "Requirement already satisfied: torch in /usr/local/lib/python3.11/dist-packages (2.5.1+cpu)\n",
            "Requirement already satisfied: torchvision in /usr/local/lib/python3.11/dist-packages (0.20.1+cpu)\n",
            "Requirement already satisfied: filelock in /usr/local/lib/python3.11/dist-packages (from torch) (3.16.1)\n",
            "Requirement already satisfied: typing-extensions>=4.8.0 in /usr/local/lib/python3.11/dist-packages (from torch) (4.12.2)\n",
            "Requirement already satisfied: networkx in /usr/local/lib/python3.11/dist-packages (from torch) (3.4.2)\n",
            "Requirement already satisfied: jinja2 in /usr/local/lib/python3.11/dist-packages (from torch) (3.1.5)\n",
            "Requirement already satisfied: fsspec in /usr/local/lib/python3.11/dist-packages (from torch) (2024.12.0)\n",
            "Requirement already satisfied: sympy==1.13.1 in /usr/local/lib/python3.11/dist-packages (from torch) (1.13.1)\n",
            "Requirement already satisfied: mpmath<1.4,>=1.1.0 in /usr/local/lib/python3.11/dist-packages (from sympy==1.13.1->torch) (1.3.0)\n",
            "Requirement already satisfied: numpy in /usr/local/lib/python3.11/dist-packages (from torchvision) (1.26.4)\n",
            "Requirement already satisfied: pillow!=8.3.*,>=5.3.0 in /usr/local/lib/python3.11/dist-packages (from torchvision) (11.1.0)\n",
            "Requirement already satisfied: MarkupSafe>=2.0 in /usr/local/lib/python3.11/dist-packages (from jinja2->torch) (3.0.2)\n"
          ]
        }
      ]
    },
    {
      "cell_type": "code",
      "source": [
        "#resizing the images\n",
        "from PIL import Image\n",
        "import os\n",
        "\n",
        "# Paths\n",
        "input_folder = data_path\n",
        "output_folder = os.path.join(data_path, \"resized_images\")\n",
        "os.makedirs(output_folder, exist_ok=True)\n",
        "\n",
        "# Resize dimensions\n",
        "target_size = (512, 512)\n",
        "\n",
        "def resize_images(input_folder, output_folder, target_size):\n",
        "    for filename in os.listdir(input_folder):\n",
        "        if filename.lower().endswith(('.png', '.jpg', '.jpeg')):\n",
        "            input_path = os.path.join(input_folder, filename)\n",
        "            output_path = os.path.join(output_folder, filename)\n",
        "\n",
        "            try:\n",
        "                # Open the image\n",
        "                with Image.open(input_path) as img:\n",
        "                    # Resize with high-quality resampling\n",
        "                    img_resized = img.resize(target_size, Image.LANCZOS)\n",
        "                    img_resized.save(output_path, quality=95)\n",
        "            except Exception as e:\n",
        "                print(f\"Error processing {filename}: {e}\")\n",
        "\n",
        "    print(f\"Resized images saved to: {output_folder}\")\n",
        "\n",
        "resize_images(input_folder, output_folder, target_size)"
      ],
      "metadata": {
        "colab": {
          "base_uri": "https://localhost:8080/"
        },
        "id": "tLugdslL1aH3",
        "outputId": "07621570-0193-47ac-9aa6-dc99e90c6bbd"
      },
      "execution_count": 8,
      "outputs": [
        {
          "output_type": "stream",
          "name": "stdout",
          "text": [
            "Resized images saved to: /content/drive/MyDrive/twin_me/resized_images\n"
          ]
        }
      ]
    },
    {
      "cell_type": "code",
      "source": [
        "from transformers import BlipProcessor, BlipForConditionalGeneration\n",
        "from PIL import Image\n",
        "import os\n",
        "\n",
        "# Load BLIP model and processor\n",
        "processor = BlipProcessor.from_pretrained(\"Salesforce/blip-image-captioning-base\")\n",
        "model = BlipForConditionalGeneration.from_pretrained(\"Salesforce/blip-image-captioning-base\")\n",
        "\n",
        "# Paths\n",
        "input_folder = os.path.join(data_path, 'resized_images')  # Resized images folder\n",
        "output_folder = os.path.join(data_path, 'tagged_images')  # Folder for tagged image captions\n",
        "os.makedirs(output_folder, exist_ok=True)  # Create output folder if it doesn't exist\n",
        "\n",
        "def generate_tags(input_folder, output_folder):\n",
        "    for filename in os.listdir(input_folder):\n",
        "        if filename.lower().endswith(('.png', '.jpg', '.jpeg')):  # Check for image file extensions\n",
        "            input_path = os.path.join(input_folder, filename)  # Full path of input image\n",
        "            output_text_path = os.path.join(output_folder, f\"{os.path.splitext(filename)[0]}.txt\")  # Path for text file\n",
        "\n",
        "            # Open the image\n",
        "            with Image.open(input_path) as img:\n",
        "                # Process the image and generate a caption\n",
        "                inputs = processor(images=img, return_tensors=\"pt\")  # Convert image to tensor format\n",
        "                outputs = model.generate(**inputs)  # Generate caption using the BLIP model\n",
        "                caption = processor.decode(outputs[0], skip_special_tokens=True)  # Decode the output\n",
        "\n",
        "                # Save the caption to a text file\n",
        "                with open(output_text_path, 'w') as f:\n",
        "                    f.write(caption)\n",
        "\n",
        "            print(f\"Generated tag for {filename}: {caption}\")\n",
        "\n",
        "    print(f\"Tags saved to: {output_folder}\")\n",
        "\n",
        "generate_tags(input_folder, output_folder)\n"
      ],
      "metadata": {
        "colab": {
          "base_uri": "https://localhost:8080/"
        },
        "id": "tQ6ETmSN1mwQ",
        "outputId": "bfce3d21-0dcc-4cf9-c45b-ecea98a5e864"
      },
      "execution_count": 9,
      "outputs": [
        {
          "output_type": "stream",
          "name": "stdout",
          "text": [
            "Generated tag for 1.JPG: a young boy is sitting in a blue toy\n",
            "Generated tag for 17.JPG: a man in a striped shirt is looking at the camera\n",
            "Generated tag for 37.jpg: a man taking a selfie in a mirror\n",
            "Generated tag for 5.jpg: a man wearing a hat and glasses standing on the beach\n",
            "Generated tag for 29.jpg: a man in an orange shirt and black pants stands on the sidewalk\n",
            "Generated tag for 4.jpg: a man wearing a hat and glasses on the beach\n",
            "Generated tag for 27.jpg: a man sitting on a bench in front of a wall with a panda painting\n",
            "Generated tag for 6.jpg: a man sitting in a chair outside\n",
            "Generated tag for 28.jpg: a man standing in front of a store filled with stuffed animals\n",
            "Generated tag for 22.jpg: a man sitting on a bench in front of a tree\n",
            "Generated tag for 31.jpg: a man standing in front of a mirror\n",
            "Generated tag for 30.jpg: a man in a gray jacket and blue shorts\n",
            "Generated tag for 32.jpg: a young boy standing in front of a yellow and black sign\n",
            "Generated tag for 33.jpg: a man wearing glasses and a black shirt\n",
            "Generated tag for 34.jpg: a man standing in front of a statue\n",
            "Generated tag for 35.jpg: a man sitting in a chair with a laptop\n",
            "Generated tag for 36.jpg: a man standing on a balcony next to a statue\n",
            "Generated tag for 18.jpg: a young boy sitting on a white statue\n",
            "Generated tag for 19.jpg: a man standing on a balcony with a view\n",
            "Generated tag for 20.jpg: a young boy playing with a large blue dragon\n",
            "Generated tag for 21.jpg: a young boy sitting on a bench in a park\n",
            "Generated tag for 23.jpg: a man sitting at a table with a laptop\n",
            "Generated tag for 24.jpg: a man standing on a balcony with a blue shirt and black pants\n",
            "Generated tag for 38.jpg: a man standing in front of a window\n",
            "Generated tag for 25.jpg: a man sitting at a table with a laptop\n",
            "Generated tag for 14.jpg: a young man sitting at a desk with a computer\n",
            "Generated tag for 7.jpg: a card with a picture of a man in a shirt and tie\n",
            "Generated tag for 26.jpg: a man wearing glasses and a black shirt\n",
            "Generated tag for 15.jpg: a man with a yellow face and green hair\n",
            "Generated tag for 16.jpg: a man with a black shirt and a black shirt\n",
            "Generated tag for 11.jpg: two young boys sitting on a bed with their cell phones\n",
            "Generated tag for 13.jpg: a man in sunglasses and a backpack is smiling\n",
            "Generated tag for 9.jpg: a man sitting on a bench in front of a tree\n",
            "Generated tag for 12.jpg: two people sitting on a train looking at their cell phones\n",
            "Generated tag for 8.jpg: a man sitting on a bench in front of a tree\n",
            "Generated tag for 10.jpg: a man sitting on a ledge in front of a tree\n",
            "Generated tag for 3.jpg: a man standing in front of a tea plantation\n",
            "Generated tag for 2.jpg: a man sitting on a rock in the mountains\n",
            "Tags saved to: /content/drive/MyDrive/twin_me/tagged_images\n"
          ]
        }
      ]
    },
    {
      "cell_type": "code",
      "source": [],
      "metadata": {
        "id": "fjzNq7SwAOIY"
      },
      "execution_count": null,
      "outputs": []
    }
  ]
}